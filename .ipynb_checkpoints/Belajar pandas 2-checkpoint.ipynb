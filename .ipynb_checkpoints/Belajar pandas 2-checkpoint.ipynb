{
 "cells": [
  {
   "cell_type": "markdown",
   "id": "cfad2fa3-9fe5-41ad-ae02-b436b81e10b2",
   "metadata": {},
   "source": [
    "## Import Library"
   ]
  },
  {
   "cell_type": "code",
   "execution_count": 3,
   "id": "56a2f8a2-daa8-418c-9f8e-c1501b752abb",
   "metadata": {},
   "outputs": [],
   "source": [
    "import pandas as pd\n",
    "import numpy as np\n",
    "import matplotlib.pyplot as plt\n",
    "import seaborn as sns"
   ]
  },
  {
   "cell_type": "markdown",
   "id": "efd13b02-629a-4592-8848-f6fe9c55a4be",
   "metadata": {},
   "source": [
    "## Load data"
   ]
  },
  {
   "cell_type": "code",
   "execution_count": 4,
   "id": "d1e05402-cf9f-414a-8292-341de7c12e4a",
   "metadata": {},
   "outputs": [],
   "source": [
    "df = pd.read_csv(\"netflix.csv\")"
   ]
  },
  {
   "cell_type": "markdown",
   "id": "3db6eb77-bb73-441f-aea5-774c843d7b20",
   "metadata": {},
   "source": [
    "## 1. Pre-processing Data"
   ]
  },
  {
   "cell_type": "code",
   "execution_count": 5,
   "id": "9a7a19d7-4dfc-4eb6-882e-a252a993fae2",
   "metadata": {},
   "outputs": [
    {
     "data": {
      "text/html": [
       "<div>\n",
       "<style scoped>\n",
       "    .dataframe tbody tr th:only-of-type {\n",
       "        vertical-align: middle;\n",
       "    }\n",
       "\n",
       "    .dataframe tbody tr th {\n",
       "        vertical-align: top;\n",
       "    }\n",
       "\n",
       "    .dataframe thead th {\n",
       "        text-align: right;\n",
       "    }\n",
       "</style>\n",
       "<table border=\"1\" class=\"dataframe\">\n",
       "  <thead>\n",
       "    <tr style=\"text-align: right;\">\n",
       "      <th></th>\n",
       "      <th>show_id</th>\n",
       "      <th>type</th>\n",
       "      <th>title</th>\n",
       "      <th>director</th>\n",
       "      <th>cast</th>\n",
       "      <th>country</th>\n",
       "      <th>date_added</th>\n",
       "      <th>release_year</th>\n",
       "      <th>rating</th>\n",
       "      <th>duration</th>\n",
       "      <th>listed_in</th>\n",
       "      <th>description</th>\n",
       "    </tr>\n",
       "  </thead>\n",
       "  <tbody>\n",
       "    <tr>\n",
       "      <th>0</th>\n",
       "      <td>s1</td>\n",
       "      <td>Movie</td>\n",
       "      <td>Dick Johnson Is Dead</td>\n",
       "      <td>Kirsten Johnson</td>\n",
       "      <td>NaN</td>\n",
       "      <td>United States</td>\n",
       "      <td>September 25, 2021</td>\n",
       "      <td>2020</td>\n",
       "      <td>PG-13</td>\n",
       "      <td>90 min</td>\n",
       "      <td>Documentaries</td>\n",
       "      <td>As her father nears the end of his life, filmm...</td>\n",
       "    </tr>\n",
       "    <tr>\n",
       "      <th>1</th>\n",
       "      <td>s2</td>\n",
       "      <td>TV Show</td>\n",
       "      <td>Blood &amp; Water</td>\n",
       "      <td>NaN</td>\n",
       "      <td>Ama Qamata, Khosi Ngema, Gail Mabalane, Thaban...</td>\n",
       "      <td>South Africa</td>\n",
       "      <td>September 24, 2021</td>\n",
       "      <td>2021</td>\n",
       "      <td>TV-MA</td>\n",
       "      <td>2 Seasons</td>\n",
       "      <td>International TV Shows, TV Dramas, TV Mysteries</td>\n",
       "      <td>After crossing paths at a party, a Cape Town t...</td>\n",
       "    </tr>\n",
       "    <tr>\n",
       "      <th>2</th>\n",
       "      <td>s3</td>\n",
       "      <td>TV Show</td>\n",
       "      <td>Ganglands</td>\n",
       "      <td>Julien Leclercq</td>\n",
       "      <td>Sami Bouajila, Tracy Gotoas, Samuel Jouy, Nabi...</td>\n",
       "      <td>NaN</td>\n",
       "      <td>September 24, 2021</td>\n",
       "      <td>2021</td>\n",
       "      <td>TV-MA</td>\n",
       "      <td>1 Season</td>\n",
       "      <td>Crime TV Shows, International TV Shows, TV Act...</td>\n",
       "      <td>To protect his family from a powerful drug lor...</td>\n",
       "    </tr>\n",
       "    <tr>\n",
       "      <th>3</th>\n",
       "      <td>s4</td>\n",
       "      <td>TV Show</td>\n",
       "      <td>Jailbirds New Orleans</td>\n",
       "      <td>NaN</td>\n",
       "      <td>NaN</td>\n",
       "      <td>NaN</td>\n",
       "      <td>September 24, 2021</td>\n",
       "      <td>2021</td>\n",
       "      <td>TV-MA</td>\n",
       "      <td>1 Season</td>\n",
       "      <td>Docuseries, Reality TV</td>\n",
       "      <td>Feuds, flirtations and toilet talk go down amo...</td>\n",
       "    </tr>\n",
       "    <tr>\n",
       "      <th>4</th>\n",
       "      <td>s5</td>\n",
       "      <td>TV Show</td>\n",
       "      <td>Kota Factory</td>\n",
       "      <td>NaN</td>\n",
       "      <td>Mayur More, Jitendra Kumar, Ranjan Raj, Alam K...</td>\n",
       "      <td>India</td>\n",
       "      <td>September 24, 2021</td>\n",
       "      <td>2021</td>\n",
       "      <td>TV-MA</td>\n",
       "      <td>2 Seasons</td>\n",
       "      <td>International TV Shows, Romantic TV Shows, TV ...</td>\n",
       "      <td>In a city of coaching centers known to train I...</td>\n",
       "    </tr>\n",
       "  </tbody>\n",
       "</table>\n",
       "</div>"
      ],
      "text/plain": [
       "  show_id     type                  title         director  \\\n",
       "0      s1    Movie   Dick Johnson Is Dead  Kirsten Johnson   \n",
       "1      s2  TV Show          Blood & Water              NaN   \n",
       "2      s3  TV Show              Ganglands  Julien Leclercq   \n",
       "3      s4  TV Show  Jailbirds New Orleans              NaN   \n",
       "4      s5  TV Show           Kota Factory              NaN   \n",
       "\n",
       "                                                cast        country  \\\n",
       "0                                                NaN  United States   \n",
       "1  Ama Qamata, Khosi Ngema, Gail Mabalane, Thaban...   South Africa   \n",
       "2  Sami Bouajila, Tracy Gotoas, Samuel Jouy, Nabi...            NaN   \n",
       "3                                                NaN            NaN   \n",
       "4  Mayur More, Jitendra Kumar, Ranjan Raj, Alam K...          India   \n",
       "\n",
       "           date_added  release_year rating   duration  \\\n",
       "0  September 25, 2021          2020  PG-13     90 min   \n",
       "1  September 24, 2021          2021  TV-MA  2 Seasons   \n",
       "2  September 24, 2021          2021  TV-MA   1 Season   \n",
       "3  September 24, 2021          2021  TV-MA   1 Season   \n",
       "4  September 24, 2021          2021  TV-MA  2 Seasons   \n",
       "\n",
       "                                           listed_in  \\\n",
       "0                                      Documentaries   \n",
       "1    International TV Shows, TV Dramas, TV Mysteries   \n",
       "2  Crime TV Shows, International TV Shows, TV Act...   \n",
       "3                             Docuseries, Reality TV   \n",
       "4  International TV Shows, Romantic TV Shows, TV ...   \n",
       "\n",
       "                                         description  \n",
       "0  As her father nears the end of his life, filmm...  \n",
       "1  After crossing paths at a party, a Cape Town t...  \n",
       "2  To protect his family from a powerful drug lor...  \n",
       "3  Feuds, flirtations and toilet talk go down amo...  \n",
       "4  In a city of coaching centers known to train I...  "
      ]
     },
     "execution_count": 5,
     "metadata": {},
     "output_type": "execute_result"
    }
   ],
   "source": [
    "df.head() # Menampilkan 5 data teratas"
   ]
  },
  {
   "cell_type": "code",
   "execution_count": 103,
   "id": "e568c388-8aef-464a-882a-63a49a749a88",
   "metadata": {},
   "outputs": [
    {
     "data": {
      "text/plain": [
       "show_id            0\n",
       "type               0\n",
       "title              0\n",
       "director        2634\n",
       "cast             825\n",
       "country          831\n",
       "date_added        10\n",
       "release_year       0\n",
       "rating             4\n",
       "duration           3\n",
       "listed_in          0\n",
       "description        0\n",
       "dtype: int64"
      ]
     },
     "execution_count": 103,
     "metadata": {},
     "output_type": "execute_result"
    }
   ],
   "source": [
    "df.isnull().sum() # Mengecek data yang kosong"
   ]
  },
  {
   "cell_type": "code",
   "execution_count": 104,
   "id": "b8d5399d-74e8-48f0-bd42-488f9f6bb481",
   "metadata": {},
   "outputs": [
    {
     "data": {
      "text/plain": [
       "4307"
      ]
     },
     "execution_count": 104,
     "metadata": {},
     "output_type": "execute_result"
    }
   ],
   "source": [
    "df.isnull().sum().sum() #Total data yang kosong"
   ]
  },
  {
   "cell_type": "markdown",
   "id": "5cf40b23-2d11-4df4-933b-57903ed16cf1",
   "metadata": {},
   "source": [
    "## Pembersihan data yang kosong"
   ]
  },
  {
   "cell_type": "code",
   "execution_count": 105,
   "id": "860feb22-5774-448d-aece-ba900c0f8a01",
   "metadata": {},
   "outputs": [],
   "source": [
    "df.fillna(\"\", inplace=True) # Mengisi data yang kosong dengan string kosong"
   ]
  },
  {
   "cell_type": "code",
   "execution_count": 106,
   "id": "ab8cb2aa-1e93-4c04-89a6-1dd46e7fd46d",
   "metadata": {},
   "outputs": [
    {
     "name": "stdout",
     "output_type": "stream",
     "text": [
      "<class 'pandas.core.frame.DataFrame'>\n",
      "RangeIndex: 8807 entries, 0 to 8806\n",
      "Data columns (total 12 columns):\n",
      " #   Column        Non-Null Count  Dtype \n",
      "---  ------        --------------  ----- \n",
      " 0   show_id       8807 non-null   object\n",
      " 1   type          8807 non-null   object\n",
      " 2   title         8807 non-null   object\n",
      " 3   director      8807 non-null   object\n",
      " 4   cast          8807 non-null   object\n",
      " 5   country       8807 non-null   object\n",
      " 6   date_added    8807 non-null   object\n",
      " 7   release_year  8807 non-null   int64 \n",
      " 8   rating        8807 non-null   object\n",
      " 9   duration      8807 non-null   object\n",
      " 10  listed_in     8807 non-null   object\n",
      " 11  description   8807 non-null   object\n",
      "dtypes: int64(1), object(11)\n",
      "memory usage: 825.8+ KB\n"
     ]
    }
   ],
   "source": [
    "df.info() # Menampilkan informasi dataframe"
   ]
  },
  {
   "cell_type": "markdown",
   "id": "95e4d379-5c07-47c4-ab24-f85714b02966",
   "metadata": {},
   "source": [
    "## 2. Exploratory Data Analysis (EDA)"
   ]
  },
  {
   "cell_type": "code",
   "execution_count": 22,
   "id": "f35b24f1-1f40-473d-99b5-14ac76eab8a8",
   "metadata": {},
   "outputs": [
    {
     "data": {
      "text/html": [
       "<div>\n",
       "<style scoped>\n",
       "    .dataframe tbody tr th:only-of-type {\n",
       "        vertical-align: middle;\n",
       "    }\n",
       "\n",
       "    .dataframe tbody tr th {\n",
       "        vertical-align: top;\n",
       "    }\n",
       "\n",
       "    .dataframe thead th {\n",
       "        text-align: right;\n",
       "    }\n",
       "</style>\n",
       "<table border=\"1\" class=\"dataframe\">\n",
       "  <thead>\n",
       "    <tr style=\"text-align: right;\">\n",
       "      <th></th>\n",
       "      <th>show_id</th>\n",
       "      <th>type</th>\n",
       "      <th>title</th>\n",
       "      <th>director</th>\n",
       "      <th>cast</th>\n",
       "      <th>country</th>\n",
       "      <th>date_added</th>\n",
       "      <th>release_year</th>\n",
       "      <th>rating</th>\n",
       "      <th>duration</th>\n",
       "      <th>listed_in</th>\n",
       "      <th>description</th>\n",
       "    </tr>\n",
       "  </thead>\n",
       "  <tbody>\n",
       "    <tr>\n",
       "      <th>0</th>\n",
       "      <td>s1</td>\n",
       "      <td>Movie</td>\n",
       "      <td>Dick Johnson Is Dead</td>\n",
       "      <td>Kirsten Johnson</td>\n",
       "      <td></td>\n",
       "      <td>United States</td>\n",
       "      <td>September 25, 2021</td>\n",
       "      <td>2020</td>\n",
       "      <td>PG-13</td>\n",
       "      <td>90 min</td>\n",
       "      <td>Documentaries</td>\n",
       "      <td>As her father nears the end of his life, filmm...</td>\n",
       "    </tr>\n",
       "    <tr>\n",
       "      <th>1</th>\n",
       "      <td>s2</td>\n",
       "      <td>TV Show</td>\n",
       "      <td>Blood &amp; Water</td>\n",
       "      <td></td>\n",
       "      <td>Ama Qamata, Khosi Ngema, Gail Mabalane, Thaban...</td>\n",
       "      <td>South Africa</td>\n",
       "      <td>September 24, 2021</td>\n",
       "      <td>2021</td>\n",
       "      <td>TV-MA</td>\n",
       "      <td>2 Seasons</td>\n",
       "      <td>International TV Shows, TV Dramas, TV Mysteries</td>\n",
       "      <td>After crossing paths at a party, a Cape Town t...</td>\n",
       "    </tr>\n",
       "    <tr>\n",
       "      <th>2</th>\n",
       "      <td>s3</td>\n",
       "      <td>TV Show</td>\n",
       "      <td>Ganglands</td>\n",
       "      <td>Julien Leclercq</td>\n",
       "      <td>Sami Bouajila, Tracy Gotoas, Samuel Jouy, Nabi...</td>\n",
       "      <td></td>\n",
       "      <td>September 24, 2021</td>\n",
       "      <td>2021</td>\n",
       "      <td>TV-MA</td>\n",
       "      <td>1 Season</td>\n",
       "      <td>Crime TV Shows, International TV Shows, TV Act...</td>\n",
       "      <td>To protect his family from a powerful drug lor...</td>\n",
       "    </tr>\n",
       "  </tbody>\n",
       "</table>\n",
       "</div>"
      ],
      "text/plain": [
       "  show_id     type                 title         director  \\\n",
       "0      s1    Movie  Dick Johnson Is Dead  Kirsten Johnson   \n",
       "1      s2  TV Show         Blood & Water                    \n",
       "2      s3  TV Show             Ganglands  Julien Leclercq   \n",
       "\n",
       "                                                cast        country  \\\n",
       "0                                                     United States   \n",
       "1  Ama Qamata, Khosi Ngema, Gail Mabalane, Thaban...   South Africa   \n",
       "2  Sami Bouajila, Tracy Gotoas, Samuel Jouy, Nabi...                  \n",
       "\n",
       "           date_added  release_year rating   duration  \\\n",
       "0  September 25, 2021          2020  PG-13     90 min   \n",
       "1  September 24, 2021          2021  TV-MA  2 Seasons   \n",
       "2  September 24, 2021          2021  TV-MA   1 Season   \n",
       "\n",
       "                                           listed_in  \\\n",
       "0                                      Documentaries   \n",
       "1    International TV Shows, TV Dramas, TV Mysteries   \n",
       "2  Crime TV Shows, International TV Shows, TV Act...   \n",
       "\n",
       "                                         description  \n",
       "0  As her father nears the end of his life, filmm...  \n",
       "1  After crossing paths at a party, a Cape Town t...  \n",
       "2  To protect his family from a powerful drug lor...  "
      ]
     },
     "execution_count": 22,
     "metadata": {},
     "output_type": "execute_result"
    }
   ],
   "source": [
    "df.head(3)"
   ]
  },
  {
   "cell_type": "code",
   "execution_count": 27,
   "id": "232f114e-7367-47ad-a878-27f5655e4e8b",
   "metadata": {},
   "outputs": [
    {
     "data": {
      "text/plain": [
       "type\n",
       "Movie      6131\n",
       "TV Show    2676\n",
       "Name: count, dtype: int64"
      ]
     },
     "execution_count": 27,
     "metadata": {},
     "output_type": "execute_result"
    }
   ],
   "source": [
    "df['type'].value_counts()"
   ]
  },
  {
   "cell_type": "markdown",
   "id": "8073dc8f-cd5c-45bc-8dbc-14de2b1042e4",
   "metadata": {},
   "source": [
    "### 1. Visualisasi jenis kontent (Film vs TV Show)"
   ]
  },
  {
   "cell_type": "code",
   "execution_count": 155,
   "id": "b972684c-e314-4ff5-bb29-a0c7214b2ead",
   "metadata": {},
   "outputs": [
    {
     "name": "stderr",
     "output_type": "stream",
     "text": [
      "C:\\Users\\Ilham Rofiqi\\AppData\\Local\\Temp\\ipykernel_1860\\784794692.py:6: FutureWarning: \n",
      "\n",
      "Passing `palette` without assigning `hue` is deprecated and will be removed in v0.14.0. Assign the `x` variable to `hue` and set `legend=False` for the same effect.\n",
      "\n",
      "  sns.countplot(df, x='type', palette=custom_palette)\n"
     ]
    },
    {
     "data": {
      "image/png": "[encoded data removed]",
      "text/plain": [
       "<Figure size 1000x500 with 1 Axes>"
      ]
     },
     "metadata": {},
     "output_type": "display_data"
    },
    {
     "data": {
      "text/plain": [
       "type\n",
       "Movie      6131\n",
       "TV Show    2676\n",
       "Name: count, dtype: int64"
      ]
     },
     "execution_count": 155,
     "metadata": {},
     "output_type": "execute_result"
    }
   ],
   "source": [
    "# 1. Visualisasi jenis kontent (Film vs TV Show)\n",
    "sns.set_theme(style='whitegrid')\n",
    "custom_palette = sns.color_palette(['#ff0000', '#000000'])\n",
    "\n",
    "plt.figure(figsize=(10,5))\n",
    "sns.countplot(df, x='type', palette=custom_palette)\n",
    "plt.title('Jumlah Film vs TV Show di Netfix', fontsize=14)\n",
    "plt.ylabel('Jumlah', fontsize=12)\n",
    "plt.xlabel('Tipe Konten', fontsize=12)\n",
    "plt.xticks(fontsize=10)\n",
    "plt.yticks(fontsize=10)\n",
    "plt.show()\n",
    "\n",
    "df['type'].value_counts()"
   ]
  },
  {
   "cell_type": "markdown",
   "id": "a1c584ac-a40d-4fcf-b547-4d6a424221f2",
   "metadata": {},
   "source": [
    "### 2. Distribusi tahun rilis"
   ]
  },
  {
   "cell_type": "code",
   "execution_count": 90,
   "id": "bd3d65e1-8306-40e6-9052-dbc35c2329e8",
   "metadata": {},
   "outputs": [
    {
     "data": {
      "image/png": "[encoded data removed]",
      "text/plain": [
       "<Figure size 1000x500 with 1 Axes>"
      ]
     },
     "metadata": {},
     "output_type": "display_data"
    }
   ],
   "source": [
    "plt.figure(figsize=(10,5))\n",
    "sns.histplot(df['release_year'], bins=30, kde=True, color='red')\n",
    "plt.title(\"Distribusi Tahun Rilis Konten di Netflix\")\n",
    "plt.xlabel(\"Tahun Rilis\")\n",
    "plt.ylabel(\"Jumlah Konten\")\n",
    "plt.show()"
   ]
  },
  {
   "cell_type": "code",
   "execution_count": 76,
   "id": "e2b548df-eeeb-4da4-b150-5a3b3f8868ae",
   "metadata": {},
   "outputs": [
    {
     "data": {
      "text/plain": [
       "release_year\n",
       "2021     592\n",
       "2020     953\n",
       "2019    1030\n",
       "2018    1147\n",
       "2017    1032\n",
       "        ... \n",
       "1945       4\n",
       "1944       3\n",
       "1943       3\n",
       "1942       2\n",
       "1925       1\n",
       "Name: count, Length: 74, dtype: int64"
      ]
     },
     "execution_count": 76,
     "metadata": {},
     "output_type": "execute_result"
    }
   ],
   "source": [
    "release_yr= df['release_year'].value_counts()\n",
    "release_yr.sort_index(ascending=False)"
   ]
  },
  {
   "cell_type": "markdown",
   "id": "bb917194-aacc-4562-9fe7-0407b7c4c199",
   "metadata": {},
   "source": [
    "### 3. Jumlah konten berdasarkan negara teratas"
   ]
  },
  {
   "cell_type": "code",
   "execution_count": 157,
   "id": "598ce2e3-e7c3-40d5-a0d7-25618221ab61",
   "metadata": {},
   "outputs": [
    {
     "name": "stderr",
     "output_type": "stream",
     "text": [
      "C:\\Users\\Ilham Rofiqi\\AppData\\Local\\Temp\\ipykernel_1860\\2182896003.py:7: FutureWarning: \n",
      "\n",
      "Passing `palette` without assigning `hue` is deprecated and will be removed in v0.14.0. Assign the `y` variable to `hue` and set `legend=False` for the same effect.\n",
      "\n",
      "  sns.barplot(x=top_countries.values, y=top_countries.index, palette=custom_palette)\n",
      "C:\\Users\\Ilham Rofiqi\\AppData\\Local\\Temp\\ipykernel_1860\\2182896003.py:7: UserWarning: \n",
      "The palette list has fewer values (2) than needed (10) and will cycle, which may produce an uninterpretable plot.\n",
      "  sns.barplot(x=top_countries.values, y=top_countries.index, palette=custom_palette)\n"
     ]
    },
    {
     "data": {
      "image/png": "[encoded data removed]",
      "text/plain": [
       "<Figure size 800x500 with 1 Axes>"
      ]
     },
     "metadata": {},
     "output_type": "display_data"
    }
   ],
   "source": [
    "sns.set_theme(style=\"whitegrid\")\n",
    "custom_palette = sns.color_palette([\"#C30E59\", \"#E82561\"])\n",
    "\n",
    "top_countries = df[\"country\"].value_counts().head(10)\n",
    "\n",
    "plt.figure(figsize=(8,5))\n",
    "sns.barplot(x=top_countries.values, y=top_countries.index, palette=custom_palette)\n",
    "plt.title(\"10 Negara dengan Jumlah Konten Terbanyak\")\n",
    "plt.xlabel(\"Jumlah Konten\", fontsize=12, color=\"black\")\n",
    "plt.ylabel(\"Negara\", fontsize=12, color=\"black\")\n",
    "plt.xticks(fontsize=10, color=\"black\")\n",
    "plt.yticks(fontsize=10, color=\"black\")\n",
    "plt.show()"
   ]
  },
  {
   "cell_type": "code",
   "execution_count": 109,
   "id": "1ecddb31-1375-45e1-acf8-bfa024016062",
   "metadata": {},
   "outputs": [
    {
     "data": {
      "text/plain": [
       "country\n",
       "United States     2818\n",
       "India              972\n",
       "                   831\n",
       "United Kingdom     419\n",
       "Japan              245\n",
       "South Korea        199\n",
       "Canada             181\n",
       "Spain              145\n",
       "France             124\n",
       "Mexico             110\n",
       "Name: count, dtype: int64"
      ]
     },
     "execution_count": 109,
     "metadata": {},
     "output_type": "execute_result"
    }
   ],
   "source": [
    "df['country'].value_counts().head(10)"
   ]
  },
  {
   "cell_type": "markdown",
   "id": "ae2194c1-5f5e-47f8-88f1-0772b25a18d2",
   "metadata": {},
   "source": [
    "### 4. Perbandingan durasi Film vs TV Show (kolom duration)"
   ]
  },
  {
   "cell_type": "code",
   "execution_count": 148,
   "id": "7c825120-8bdb-4a2f-a2e3-c354260e4197",
   "metadata": {},
   "outputs": [
    {
     "data": {
      "text/html": [
       "<div>\n",
       "<style scoped>\n",
       "    .dataframe tbody tr th:only-of-type {\n",
       "        vertical-align: middle;\n",
       "    }\n",
       "\n",
       "    .dataframe tbody tr th {\n",
       "        vertical-align: top;\n",
       "    }\n",
       "\n",
       "    .dataframe thead th {\n",
       "        text-align: right;\n",
       "    }\n",
       "</style>\n",
       "<table border=\"1\" class=\"dataframe\">\n",
       "  <thead>\n",
       "    <tr style=\"text-align: right;\">\n",
       "      <th></th>\n",
       "      <th>show_id</th>\n",
       "      <th>type</th>\n",
       "      <th>title</th>\n",
       "      <th>director</th>\n",
       "      <th>cast</th>\n",
       "      <th>country</th>\n",
       "      <th>date_added</th>\n",
       "      <th>release_year</th>\n",
       "      <th>rating</th>\n",
       "      <th>duration</th>\n",
       "      <th>listed_in</th>\n",
       "      <th>description</th>\n",
       "    </tr>\n",
       "  </thead>\n",
       "  <tbody>\n",
       "    <tr>\n",
       "      <th>0</th>\n",
       "      <td>s694</td>\n",
       "      <td>Movie</td>\n",
       "      <td>Ali &amp; Ratu Ratu Queens</td>\n",
       "      <td>Lucky Kuswandi</td>\n",
       "      <td>Iqbaal Ramadhan, Nirina Zubir, Asri Welas, Tik...</td>\n",
       "      <td></td>\n",
       "      <td>June 17, 2021</td>\n",
       "      <td>2021</td>\n",
       "      <td>TV-14</td>\n",
       "      <td>101 min</td>\n",
       "      <td>Comedies, Dramas, International Movies</td>\n",
       "      <td>After his father's passing, a teenager sets ou...</td>\n",
       "    </tr>\n",
       "    <tr>\n",
       "      <th>1</th>\n",
       "      <td>s1110</td>\n",
       "      <td>Movie</td>\n",
       "      <td>Just Say Yes</td>\n",
       "      <td>Appie Boudellah, Aram van de Rest</td>\n",
       "      <td>Yolanthe Cabau, Noortje Herlaar, Kim-Lian van ...</td>\n",
       "      <td>Netherlands</td>\n",
       "      <td>April 2, 2021</td>\n",
       "      <td>2021</td>\n",
       "      <td>TV-MA</td>\n",
       "      <td>98 min</td>\n",
       "      <td>Comedies, International Movies, Romantic Movies</td>\n",
       "      <td>Incurable romantic Lotte finds her life upende...</td>\n",
       "    </tr>\n",
       "    <tr>\n",
       "      <th>2</th>\n",
       "      <td>s1147</td>\n",
       "      <td>TV Show</td>\n",
       "      <td>Haunted: Latin America</td>\n",
       "      <td>Adrián García Bogliano</td>\n",
       "      <td></td>\n",
       "      <td>United States, Mexico</td>\n",
       "      <td>March 31, 2021</td>\n",
       "      <td>2021</td>\n",
       "      <td>TV-14</td>\n",
       "      <td>1 Season</td>\n",
       "      <td>International TV Shows, Reality TV, Spanish-La...</td>\n",
       "      <td>Real people's terrifying tales of the chilling...</td>\n",
       "    </tr>\n",
       "  </tbody>\n",
       "</table>\n",
       "</div>"
      ],
      "text/plain": [
       "  show_id     type                   title                           director  \\\n",
       "0    s694    Movie  Ali & Ratu Ratu Queens                     Lucky Kuswandi   \n",
       "1   s1110    Movie            Just Say Yes  Appie Boudellah, Aram van de Rest   \n",
       "2   s1147  TV Show  Haunted: Latin America             Adrián García Bogliano   \n",
       "\n",
       "                                                cast                country  \\\n",
       "0  Iqbaal Ramadhan, Nirina Zubir, Asri Welas, Tik...                          \n",
       "1  Yolanthe Cabau, Noortje Herlaar, Kim-Lian van ...            Netherlands   \n",
       "2                                                     United States, Mexico   \n",
       "\n",
       "       date_added  release_year rating  duration  \\\n",
       "0   June 17, 2021          2021  TV-14   101 min   \n",
       "1   April 2, 2021          2021  TV-MA    98 min   \n",
       "2  March 31, 2021          2021  TV-14  1 Season   \n",
       "\n",
       "                                           listed_in  \\\n",
       "0             Comedies, Dramas, International Movies   \n",
       "1    Comedies, International Movies, Romantic Movies   \n",
       "2  International TV Shows, Reality TV, Spanish-La...   \n",
       "\n",
       "                                         description  \n",
       "0  After his father's passing, a teenager sets ou...  \n",
       "1  Incurable romantic Lotte finds her life upende...  \n",
       "2  Real people's terrifying tales of the chilling...  "
      ]
     },
     "execution_count": 148,
     "metadata": {},
     "output_type": "execute_result"
    }
   ],
   "source": [
    "df.head(3)"
   ]
  },
  {
   "cell_type": "code",
   "execution_count": 168,
   "id": "5d1980e0-4480-499b-a957-c1061631f2f9",
   "metadata": {},
   "outputs": [
    {
     "name": "stderr",
     "output_type": "stream",
     "text": [
      "C:\\Users\\Ilham Rofiqi\\AppData\\Local\\Temp\\ipykernel_1860\\1967542511.py:4: SettingWithCopyWarning: \n",
      "A value is trying to be set on a copy of a slice from a DataFrame.\n",
      "Try using .loc[row_indexer,col_indexer] = value instead\n",
      "\n",
      "See the caveats in the documentation: https://pandas.pydata.org/pandas-docs/stable/user_guide/indexing.html#returning-a-view-versus-a-copy\n",
      "  df_filtered[\"duration\"] = df_filtered['duration'].str.replace(\" min\", \"\").str.replace( \" Season\", \"\").str.replace( \"s\", \"\")\n",
      "C:\\Users\\Ilham Rofiqi\\AppData\\Local\\Temp\\ipykernel_1860\\1967542511.py:5: SettingWithCopyWarning: \n",
      "A value is trying to be set on a copy of a slice from a DataFrame.\n",
      "Try using .loc[row_indexer,col_indexer] = value instead\n",
      "\n",
      "See the caveats in the documentation: https://pandas.pydata.org/pandas-docs/stable/user_guide/indexing.html#returning-a-view-versus-a-copy\n",
      "  df_filtered[\"duration\"] = pd.to_numeric(df_filtered[\"duration\"], errors=\"coerce\")\n"
     ]
    },
    {
     "data": {
      "text/html": [
       "<div>\n",
       "<style scoped>\n",
       "    .dataframe tbody tr th:only-of-type {\n",
       "        vertical-align: middle;\n",
       "    }\n",
       "\n",
       "    .dataframe tbody tr th {\n",
       "        vertical-align: top;\n",
       "    }\n",
       "\n",
       "    .dataframe thead th {\n",
       "        text-align: right;\n",
       "    }\n",
       "</style>\n",
       "<table border=\"1\" class=\"dataframe\">\n",
       "  <thead>\n",
       "    <tr style=\"text-align: right;\">\n",
       "      <th></th>\n",
       "      <th>show_id</th>\n",
       "      <th>type</th>\n",
       "      <th>title</th>\n",
       "      <th>director</th>\n",
       "      <th>cast</th>\n",
       "      <th>country</th>\n",
       "      <th>date_added</th>\n",
       "      <th>release_year</th>\n",
       "      <th>rating</th>\n",
       "      <th>duration</th>\n",
       "      <th>listed_in</th>\n",
       "      <th>description</th>\n",
       "    </tr>\n",
       "  </thead>\n",
       "  <tbody>\n",
       "    <tr>\n",
       "      <th>0</th>\n",
       "      <td>s694</td>\n",
       "      <td>Movie</td>\n",
       "      <td>Ali &amp; Ratu Ratu Queens</td>\n",
       "      <td>Lucky Kuswandi</td>\n",
       "      <td>Iqbaal Ramadhan, Nirina Zubir, Asri Welas, Tik...</td>\n",
       "      <td></td>\n",
       "      <td>June 17, 2021</td>\n",
       "      <td>2021</td>\n",
       "      <td>TV-14</td>\n",
       "      <td>101</td>\n",
       "      <td>Comedies, Dramas, International Movies</td>\n",
       "      <td>After his father's passing, a teenager sets ou...</td>\n",
       "    </tr>\n",
       "    <tr>\n",
       "      <th>1</th>\n",
       "      <td>s1110</td>\n",
       "      <td>Movie</td>\n",
       "      <td>Just Say Yes</td>\n",
       "      <td>Appie Boudellah, Aram van de Rest</td>\n",
       "      <td>Yolanthe Cabau, Noortje Herlaar, Kim-Lian van ...</td>\n",
       "      <td>Netherlands</td>\n",
       "      <td>April 2, 2021</td>\n",
       "      <td>2021</td>\n",
       "      <td>TV-MA</td>\n",
       "      <td>98</td>\n",
       "      <td>Comedies, International Movies, Romantic Movies</td>\n",
       "      <td>Incurable romantic Lotte finds her life upende...</td>\n",
       "    </tr>\n",
       "    <tr>\n",
       "      <th>2</th>\n",
       "      <td>s1147</td>\n",
       "      <td>TV Show</td>\n",
       "      <td>Haunted: Latin America</td>\n",
       "      <td>Adrián García Bogliano</td>\n",
       "      <td></td>\n",
       "      <td>United States, Mexico</td>\n",
       "      <td>March 31, 2021</td>\n",
       "      <td>2021</td>\n",
       "      <td>TV-14</td>\n",
       "      <td>1</td>\n",
       "      <td>International TV Shows, Reality TV, Spanish-La...</td>\n",
       "      <td>Real people's terrifying tales of the chilling...</td>\n",
       "    </tr>\n",
       "    <tr>\n",
       "      <th>3</th>\n",
       "      <td>s1421</td>\n",
       "      <td>Movie</td>\n",
       "      <td>Crack: Cocaine, Corruption &amp; Conspiracy</td>\n",
       "      <td>Stanley Nelson</td>\n",
       "      <td></td>\n",
       "      <td>United States</td>\n",
       "      <td>January 11, 2021</td>\n",
       "      <td>2021</td>\n",
       "      <td>TV-MA</td>\n",
       "      <td>90</td>\n",
       "      <td>Documentaries</td>\n",
       "      <td>A cheap, powerful drug emerges during a recess...</td>\n",
       "    </tr>\n",
       "    <tr>\n",
       "      <th>4</th>\n",
       "      <td>s1111</td>\n",
       "      <td>Movie</td>\n",
       "      <td>Madame Claude</td>\n",
       "      <td>Sylvie Verheyde</td>\n",
       "      <td>Karole Rocher, Garance Marillier, Roschdy Zem,...</td>\n",
       "      <td>France</td>\n",
       "      <td>April 2, 2021</td>\n",
       "      <td>2021</td>\n",
       "      <td>TV-MA</td>\n",
       "      <td>113</td>\n",
       "      <td>Dramas, International Movies</td>\n",
       "      <td>In 1960s Paris, Madame Claude's influence exte...</td>\n",
       "    </tr>\n",
       "  </tbody>\n",
       "</table>\n",
       "</div>"
      ],
      "text/plain": [
       "  show_id     type                                    title  \\\n",
       "0    s694    Movie                   Ali & Ratu Ratu Queens   \n",
       "1   s1110    Movie                             Just Say Yes   \n",
       "2   s1147  TV Show                   Haunted: Latin America   \n",
       "3   s1421    Movie  Crack: Cocaine, Corruption & Conspiracy   \n",
       "4   s1111    Movie                            Madame Claude   \n",
       "\n",
       "                            director  \\\n",
       "0                     Lucky Kuswandi   \n",
       "1  Appie Boudellah, Aram van de Rest   \n",
       "2             Adrián García Bogliano   \n",
       "3                     Stanley Nelson   \n",
       "4                    Sylvie Verheyde   \n",
       "\n",
       "                                                cast                country  \\\n",
       "0  Iqbaal Ramadhan, Nirina Zubir, Asri Welas, Tik...                          \n",
       "1  Yolanthe Cabau, Noortje Herlaar, Kim-Lian van ...            Netherlands   \n",
       "2                                                     United States, Mexico   \n",
       "3                                                             United States   \n",
       "4  Karole Rocher, Garance Marillier, Roschdy Zem,...                 France   \n",
       "\n",
       "         date_added  release_year rating  duration  \\\n",
       "0     June 17, 2021          2021  TV-14       101   \n",
       "1     April 2, 2021          2021  TV-MA        98   \n",
       "2    March 31, 2021          2021  TV-14         1   \n",
       "3  January 11, 2021          2021  TV-MA        90   \n",
       "4     April 2, 2021          2021  TV-MA       113   \n",
       "\n",
       "                                           listed_in  \\\n",
       "0             Comedies, Dramas, International Movies   \n",
       "1    Comedies, International Movies, Romantic Movies   \n",
       "2  International TV Shows, Reality TV, Spanish-La...   \n",
       "3                                      Documentaries   \n",
       "4                       Dramas, International Movies   \n",
       "\n",
       "                                         description  \n",
       "0  After his father's passing, a teenager sets ou...  \n",
       "1  Incurable romantic Lotte finds her life upende...  \n",
       "2  Real people's terrifying tales of the chilling...  \n",
       "3  A cheap, powerful drug emerges during a recess...  \n",
       "4  In 1960s Paris, Madame Claude's influence exte...  "
      ]
     },
     "execution_count": 168,
     "metadata": {},
     "output_type": "execute_result"
    }
   ],
   "source": [
    "# Filter dan menghapus text string pada duration dan diubah menjadi numeric supaya bisa diolah\n",
    "\n",
    "df_filtered = df[df[\"duration\"] != \"\"]\n",
    "df_filtered[\"duration\"] = df_filtered['duration'].str.replace(\" min\", \"\").str.replace( \" Season\", \"\").str.replace( \"s\", \"\")\n",
    "df_filtered[\"duration\"] = pd.to_numeric(df_filtered[\"duration\"], errors=\"coerce\")\n",
    "\n",
    "df_filtered.head()"
   ]
  },
  {
   "cell_type": "code",
   "execution_count": 169,
   "id": "5cf92c2c-bb96-494c-a469-da4fd9c00c2d",
   "metadata": {},
   "outputs": [
    {
     "name": "stderr",
     "output_type": "stream",
     "text": [
      "C:\\Users\\Ilham Rofiqi\\AppData\\Local\\Temp\\ipykernel_1860\\2684933706.py:3: FutureWarning: \n",
      "\n",
      "Passing `palette` without assigning `hue` is deprecated and will be removed in v0.14.0. Assign the `x` variable to `hue` and set `legend=False` for the same effect.\n",
      "\n",
      "  sns.boxplot(df_filtered, x=\"type\", y=\"duration\", palette=\"hot\")\n"
     ]
    },
    {
     "data": {
      "image/png": "[encoded data removed]",
      "text/plain": [
       "<Figure size 800x500 with 1 Axes>"
      ]
     },
     "metadata": {},
     "output_type": "display_data"
    }
   ],
   "source": [
    "# Membuat Visualisasi Boxplot\n",
    "plt.figure(figsize=(8,5))\n",
    "sns.boxplot(df_filtered, x=\"type\", y=\"duration\", palette=\"hot\")\n",
    "plt.title=(\"Perbedaan Durasi FIlm vs TV Show\")\n",
    "plt.xlabel=(\"Tipe Konten\")\n",
    "plt.ylabel=(\"Durasi (Menit / Season)\")\n",
    "plt.show()"
   ]
  },
  {
   "cell_type": "code",
   "execution_count": null,
   "id": "9b9f64fc-4da3-4c6a-9e93-1236afd683ce",
   "metadata": {},
   "outputs": [],
   "source": []
  }
 ],
 "metadata": {
  "kernelspec": {
   "display_name": "Python 3 (ipykernel)",
   "language": "python",
   "name": "python3"
  },
  "language_info": {
   "codemirror_mode": {
    "name": "ipython",
    "version": 3
   },
   "file_extension": ".py",
   "mimetype": "text/x-python",
   "name": "python",
   "nbconvert_exporter": "python",
   "pygments_lexer": "ipython3",
   "version": "3.11.8"
  }
 },
 "nbformat": 4,
 "nbformat_minor": 5
}
